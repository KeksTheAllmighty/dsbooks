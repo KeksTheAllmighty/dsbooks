{
 "cells": [
  {
   "cell_type": "markdown",
   "metadata": {},
   "source": [
    "# Practical example. Audiobooks\n",
    "\n",
    "Initial Notebook: https://www.udemy.com/course/the-data-science-course-complete-data-science-bootcamp/\n"
   ]
  },
  {
   "cell_type": "markdown",
   "metadata": {},
   "source": [
    "## Problem\n",
    "\n",
    "You are given data from an Audiobook app. Logically, it relates only to the audio versions of books. Each customer in the database has made a purchase at least once, that's why he/she is in the database. We want to create a machine learning algorithm based on our available data that can predict if a customer will buy again from the Audiobook company.\n",
    "\n",
    "The main idea is that if a customer has a low probability of coming back, there is no reason to spend any money on advertizing to him/her. If we can focus our efforts ONLY on customers that are likely to convert again, we can make great savings. Moreover, this model can identify the most important metrics for a customer to come back again. Identifying new customers creates value and growth opportunities.\n",
    "\n",
    "You have a .csv summarizing the data. There are several variables: Customer ID, Book length in mins_avg (average of all purchases), Book length in minutes_sum (sum of all purchases), Price Paid_avg (average of all purchases), Price paid_sum (sum of all purchases), Review (a Boolean variable), Review (out of 10), Total minutes listened, Completion (from 0 to 1), Support requests (number), and Last visited minus purchase date (in days).\n",
    "\n",
    "So these are the inputs (excluding customer ID, as it is completely arbitrary. It's more like a name, than a number).\n",
    "\n",
    "The targets are a Boolean variable (so 0, or 1). We are taking a period of 2 years in our inputs, and the next 6 months as targets. So, in fact, we are predicting if: based on the last 2 years of activity and engagement, a customer will convert in the next 6 months. 6 months sounds like a reasonable time. If they don't convert after 6 months, chances are they've gone to a competitor or didn't like the Audiobook way of digesting information. \n",
    "\n",
    "The task is simple: create a machine learning algorithm, which is able to predict if a customer will buy again. \n",
    "\n",
    "This is a classification problem with two classes: won't buy and will buy, represented by 0s and 1s. "
   ]
  },
  {
   "cell_type": "markdown",
   "metadata": {},
   "source": [
    "## Create the machine learning algorithm\n",
    "\n"
   ]
  },
  {
   "cell_type": "markdown",
   "metadata": {},
   "source": [
    "### Import the relevant libraries"
   ]
  },
  {
   "cell_type": "code",
   "execution_count": 1,
   "metadata": {},
   "outputs": [],
   "source": [
    "# we must import the libraries once again since we haven't imported them in this file\n",
    "import numpy as np\n",
    "import tensorflow as tf\n",
    "\n",
    "physical_devices = tf.config.list_physical_devices('GPU')\n",
    "tf.config.experimental.set_memory_growth(physical_devices[0], True)"
   ]
  },
  {
   "cell_type": "markdown",
   "metadata": {},
   "source": [
    "### Data"
   ]
  },
  {
   "cell_type": "code",
   "execution_count": 2,
   "metadata": {},
   "outputs": [],
   "source": [
    "# let's create a temporary variable npz, where we will store each of the three Audiobooks datasets\n",
    "npz = np.load('Audiobooks_data_train.npz')\n",
    "\n",
    "# we extract the inputs using the keyword under which we saved them\n",
    "# to ensure that they are all floats, let's also take care of that\n",
    "train_inputs = npz['inputs'].astype(np.float)\n",
    "# targets must be int because of sparse_categorical_crossentropy (we want to be able to smoothly one-hot encode them)\n",
    "train_targets = npz['targets'].astype(np.int)\n",
    "\n",
    "# we load the validation data in the temporary variable\n",
    "npz = np.load('Audiobooks_data_validation.npz')\n",
    "# we can load the inputs and the targets in the same line\n",
    "validation_inputs, validation_targets = npz['inputs'].astype(np.float), npz['targets'].astype(np.int)\n",
    "\n",
    "# we load the test data in the temporary variable\n",
    "npz = np.load('Audiobooks_data_test.npz')\n",
    "# we create 2 variables that will contain the test inputs and the test targets\n",
    "test_inputs, test_targets = npz['inputs'].astype(np.float), npz['targets'].astype(np.int)"
   ]
  },
  {
   "cell_type": "markdown",
   "metadata": {},
   "source": [
    "### Model\n",
    "Outline, optimizers, loss, early stopping and training"
   ]
  },
  {
   "cell_type": "code",
   "execution_count": 3,
   "metadata": {},
   "outputs": [
    {
     "name": "stdout",
     "output_type": "stream",
     "text": [
      "Epoch 1/100\n",
      "36/36 - 0s - loss: 0.6917 - accuracy: 0.5767 - val_loss: 0.6436 - val_accuracy: 0.6465\n",
      "Epoch 2/100\n",
      "36/36 - 0s - loss: 0.5967 - accuracy: 0.7200 - val_loss: 0.5786 - val_accuracy: 0.7181\n",
      "Epoch 3/100\n",
      "36/36 - 0s - loss: 0.5428 - accuracy: 0.7491 - val_loss: 0.5362 - val_accuracy: 0.7427\n",
      "Epoch 4/100\n",
      "36/36 - 0s - loss: 0.5072 - accuracy: 0.7622 - val_loss: 0.5060 - val_accuracy: 0.7584\n",
      "Epoch 5/100\n",
      "36/36 - 0s - loss: 0.4812 - accuracy: 0.7678 - val_loss: 0.4823 - val_accuracy: 0.7696\n",
      "Epoch 6/100\n",
      "36/36 - 0s - loss: 0.4617 - accuracy: 0.7720 - val_loss: 0.4642 - val_accuracy: 0.7763\n",
      "Epoch 7/100\n",
      "36/36 - 0s - loss: 0.4468 - accuracy: 0.7782 - val_loss: 0.4500 - val_accuracy: 0.7852\n",
      "Epoch 8/100\n",
      "36/36 - 0s - loss: 0.4354 - accuracy: 0.7795 - val_loss: 0.4385 - val_accuracy: 0.7830\n",
      "Epoch 9/100\n",
      "36/36 - 0s - loss: 0.4264 - accuracy: 0.7826 - val_loss: 0.4298 - val_accuracy: 0.7875\n",
      "Epoch 10/100\n",
      "36/36 - 0s - loss: 0.4196 - accuracy: 0.7832 - val_loss: 0.4224 - val_accuracy: 0.7852\n",
      "Epoch 11/100\n",
      "36/36 - 0s - loss: 0.4135 - accuracy: 0.7896 - val_loss: 0.4162 - val_accuracy: 0.7897\n",
      "Epoch 12/100\n",
      "36/36 - 0s - loss: 0.4082 - accuracy: 0.7904 - val_loss: 0.4111 - val_accuracy: 0.7897\n",
      "Epoch 13/100\n",
      "36/36 - 0s - loss: 0.4037 - accuracy: 0.7918 - val_loss: 0.4058 - val_accuracy: 0.7919\n",
      "Epoch 14/100\n",
      "36/36 - 0s - loss: 0.3999 - accuracy: 0.7938 - val_loss: 0.4015 - val_accuracy: 0.7964\n",
      "Epoch 15/100\n",
      "36/36 - 0s - loss: 0.3966 - accuracy: 0.7938 - val_loss: 0.3978 - val_accuracy: 0.7942\n",
      "Epoch 16/100\n",
      "36/36 - 0s - loss: 0.3934 - accuracy: 0.7952 - val_loss: 0.3959 - val_accuracy: 0.7942\n",
      "Epoch 17/100\n",
      "36/36 - 0s - loss: 0.3906 - accuracy: 0.7994 - val_loss: 0.3924 - val_accuracy: 0.7964\n",
      "Epoch 18/100\n",
      "36/36 - 0s - loss: 0.3880 - accuracy: 0.7960 - val_loss: 0.3896 - val_accuracy: 0.8031\n",
      "Epoch 19/100\n",
      "36/36 - 0s - loss: 0.3858 - accuracy: 0.7974 - val_loss: 0.3872 - val_accuracy: 0.7987\n",
      "Epoch 20/100\n",
      "36/36 - 0s - loss: 0.3838 - accuracy: 0.7985 - val_loss: 0.3851 - val_accuracy: 0.8009\n",
      "Epoch 21/100\n",
      "36/36 - 0s - loss: 0.3828 - accuracy: 0.8013 - val_loss: 0.3840 - val_accuracy: 0.8054\n",
      "Epoch 22/100\n",
      "36/36 - 0s - loss: 0.3803 - accuracy: 0.8016 - val_loss: 0.3820 - val_accuracy: 0.8098\n",
      "Epoch 23/100\n",
      "36/36 - 0s - loss: 0.3787 - accuracy: 0.8016 - val_loss: 0.3798 - val_accuracy: 0.8054\n",
      "Epoch 24/100\n",
      "36/36 - 0s - loss: 0.3770 - accuracy: 0.8022 - val_loss: 0.3787 - val_accuracy: 0.8076\n",
      "Epoch 25/100\n",
      "36/36 - 0s - loss: 0.3760 - accuracy: 0.8019 - val_loss: 0.3775 - val_accuracy: 0.8098\n",
      "Epoch 26/100\n",
      "36/36 - 0s - loss: 0.3745 - accuracy: 0.7999 - val_loss: 0.3758 - val_accuracy: 0.8098\n",
      "Epoch 27/100\n",
      "36/36 - 0s - loss: 0.3731 - accuracy: 0.8039 - val_loss: 0.3748 - val_accuracy: 0.8098\n",
      "Epoch 28/100\n",
      "36/36 - 0s - loss: 0.3720 - accuracy: 0.8058 - val_loss: 0.3745 - val_accuracy: 0.8143\n",
      "Epoch 29/100\n",
      "36/36 - 0s - loss: 0.3712 - accuracy: 0.8047 - val_loss: 0.3729 - val_accuracy: 0.8121\n",
      "Epoch 30/100\n",
      "36/36 - 0s - loss: 0.3702 - accuracy: 0.8055 - val_loss: 0.3717 - val_accuracy: 0.8121\n",
      "Epoch 31/100\n",
      "36/36 - 0s - loss: 0.3691 - accuracy: 0.8047 - val_loss: 0.3703 - val_accuracy: 0.8166\n",
      "Epoch 32/100\n",
      "36/36 - 0s - loss: 0.3681 - accuracy: 0.8047 - val_loss: 0.3702 - val_accuracy: 0.8143\n",
      "Epoch 33/100\n",
      "36/36 - 0s - loss: 0.3676 - accuracy: 0.8055 - val_loss: 0.3695 - val_accuracy: 0.8210\n",
      "Epoch 34/100\n",
      "36/36 - 0s - loss: 0.3669 - accuracy: 0.8058 - val_loss: 0.3690 - val_accuracy: 0.8210\n",
      "Epoch 35/100\n",
      "36/36 - 0s - loss: 0.3660 - accuracy: 0.8080 - val_loss: 0.3679 - val_accuracy: 0.8210\n",
      "Epoch 36/100\n",
      "36/36 - 0s - loss: 0.3651 - accuracy: 0.8080 - val_loss: 0.3662 - val_accuracy: 0.8188\n",
      "Epoch 37/100\n",
      "36/36 - 0s - loss: 0.3641 - accuracy: 0.8083 - val_loss: 0.3659 - val_accuracy: 0.8210\n",
      "Epoch 38/100\n",
      "36/36 - 0s - loss: 0.3637 - accuracy: 0.8069 - val_loss: 0.3659 - val_accuracy: 0.8255\n",
      "Epoch 39/100\n",
      "36/36 - 0s - loss: 0.3629 - accuracy: 0.8055 - val_loss: 0.3640 - val_accuracy: 0.8210\n",
      "Epoch 40/100\n",
      "36/36 - 0s - loss: 0.3624 - accuracy: 0.8092 - val_loss: 0.3652 - val_accuracy: 0.8166\n"
     ]
    },
    {
     "data": {
      "text/plain": [
       "<tensorflow.python.keras.callbacks.History at 0x1db93e30648>"
      ]
     },
     "execution_count": 3,
     "metadata": {},
     "output_type": "execute_result"
    }
   ],
   "source": [
    "# Set the input and output sizes\n",
    "input_size = 10\n",
    "output_size = 2\n",
    "# Use same hidden layer size for both hidden layers. Not a necessity.\n",
    "hidden_layer_size = 20\n",
    "    \n",
    "# define how the model will look like\n",
    "model = tf.keras.Sequential([\n",
    "    # tf.keras.layers.Dense is basically implementing: output = activation(dot(input, weight) + bias)\n",
    "    # it takes several arguments, but the most important ones for us are the hidden_layer_size and the activation function\n",
    "    tf.keras.layers.Dense(hidden_layer_size, activation='relu'), # 1st hidden layer\n",
    "    # the final layer is no different, we just make sure to activate it with softmax\n",
    "    tf.keras.layers.Dense(output_size, activation='softmax') # output layer\n",
    "])\n",
    "\n",
    "\n",
    "### Choose the optimizer and the loss function\n",
    "\n",
    "# we define the optimizer we'd like to use, \n",
    "# the loss function, \n",
    "# and the metrics we are interested in obtaining at each iteration\n",
    "model.compile(optimizer='adam', loss='sparse_categorical_crossentropy', metrics=['accuracy'])\n",
    "\n",
    "### Training\n",
    "# That's where we train the model we have built.\n",
    "\n",
    "# set the batch size\n",
    "batch_size = 100\n",
    "\n",
    "# set a maximum number of training epochs\n",
    "max_epochs = 100\n",
    "\n",
    "early_stopping = tf.keras.callbacks.EarlyStopping(patience=1)\n",
    "\n",
    "# fit the model\n",
    "# note that this time the train, validation and test data are not iterable\n",
    "model.fit(train_inputs, # train inputs\n",
    "          train_targets, # train targets\n",
    "          batch_size=batch_size, # batch size\n",
    "          epochs=max_epochs, # epochs that we will train for (assuming early stopping doesn't kick in)\n",
    "          callbacks=[early_stopping],\n",
    "          validation_data=(validation_inputs, validation_targets), # validation data\n",
    "          verbose = 2 # making sure we get enough information about the training process\n",
    "          )  "
   ]
  },
  {
   "cell_type": "code",
   "execution_count": 4,
   "metadata": {},
   "outputs": [
    {
     "name": "stdout",
     "output_type": "stream",
     "text": [
      "14/14 [==============================] - 0s 1ms/step - loss: 0.3728 - accuracy: 0.8125\n"
     ]
    }
   ],
   "source": [
    "test_loss, test_accuracy = model.evaluate(test_inputs, test_targets)"
   ]
  },
  {
   "cell_type": "code",
   "execution_count": 5,
   "metadata": {},
   "outputs": [
    {
     "name": "stdout",
     "output_type": "stream",
     "text": [
      "Test loss: 0.37. Test accuracy: 81.25%\n"
     ]
    }
   ],
   "source": [
    "# We can apply some nice formatting if we want to\n",
    "print('Test loss: {0:.2f}. Test accuracy: {1:.2f}%'.format(test_loss, test_accuracy*100.))"
   ]
  },
  {
   "cell_type": "code",
   "execution_count": null,
   "metadata": {},
   "outputs": [],
   "source": []
  }
 ],
 "metadata": {
  "kernelspec": {
   "display_name": "ds3.7",
   "language": "python",
   "name": "ds3.7"
  },
  "language_info": {
   "codemirror_mode": {
    "name": "ipython",
    "version": 3
   },
   "file_extension": ".py",
   "mimetype": "text/x-python",
   "name": "python",
   "nbconvert_exporter": "python",
   "pygments_lexer": "ipython3",
   "version": "3.7.6"
  }
 },
 "nbformat": 4,
 "nbformat_minor": 2
}
